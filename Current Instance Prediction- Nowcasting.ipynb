{
 "cells": [
  {
   "cell_type": "code",
   "execution_count": 1,
   "id": "7758ec26",
   "metadata": {},
   "outputs": [],
   "source": [
    "import pandas as pd\n",
    "from sklearn.model_selection import train_test_split\n",
    "import numpy as np"
   ]
  },
  {
   "cell_type": "code",
   "execution_count": 2,
   "id": "0d2f862a",
   "metadata": {},
   "outputs": [],
   "source": [
    "df = pd.read_csv(\"post_processed.csv\", index_col = None)"
   ]
  },
  {
   "cell_type": "code",
   "execution_count": 3,
   "id": "facedc71",
   "metadata": {},
   "outputs": [
    {
     "data": {
      "text/html": [
       "<div>\n",
       "<style scoped>\n",
       "    .dataframe tbody tr th:only-of-type {\n",
       "        vertical-align: middle;\n",
       "    }\n",
       "\n",
       "    .dataframe tbody tr th {\n",
       "        vertical-align: top;\n",
       "    }\n",
       "\n",
       "    .dataframe thead th {\n",
       "        text-align: right;\n",
       "    }\n",
       "</style>\n",
       "<table border=\"1\" class=\"dataframe\">\n",
       "  <thead>\n",
       "    <tr style=\"text-align: right;\">\n",
       "      <th></th>\n",
       "      <th>Unnamed: 0</th>\n",
       "      <th>alti</th>\n",
       "      <th>drct</th>\n",
       "      <th>dwpf</th>\n",
       "      <th>feel</th>\n",
       "      <th>mslp</th>\n",
       "      <th>relh</th>\n",
       "      <th>sknt</th>\n",
       "      <th>tmpf</th>\n",
       "      <th>valid</th>\n",
       "      <th>vsby</th>\n",
       "      <th>skyc1_CLR</th>\n",
       "      <th>skyc1_FEW</th>\n",
       "      <th>skyc1_OVC</th>\n",
       "      <th>skyc1_SCT</th>\n",
       "      <th>skyc1_VV</th>\n",
       "    </tr>\n",
       "  </thead>\n",
       "  <tbody>\n",
       "    <tr>\n",
       "      <th>0</th>\n",
       "      <td>0</td>\n",
       "      <td>30.099997</td>\n",
       "      <td>0.0</td>\n",
       "      <td>54.479617</td>\n",
       "      <td>57.7</td>\n",
       "      <td>1018.399996</td>\n",
       "      <td>94.332984</td>\n",
       "      <td>0.0</td>\n",
       "      <td>57.7</td>\n",
       "      <td>27-11-2020 00:15</td>\n",
       "      <td>5.300603</td>\n",
       "      <td>1</td>\n",
       "      <td>0</td>\n",
       "      <td>0</td>\n",
       "      <td>0</td>\n",
       "      <td>0</td>\n",
       "    </tr>\n",
       "    <tr>\n",
       "      <th>1</th>\n",
       "      <td>1</td>\n",
       "      <td>30.115998</td>\n",
       "      <td>0.0</td>\n",
       "      <td>53.059670</td>\n",
       "      <td>55.4</td>\n",
       "      <td>1018.899996</td>\n",
       "      <td>96.243318</td>\n",
       "      <td>0.0</td>\n",
       "      <td>55.4</td>\n",
       "      <td>27-11-2020 01:15</td>\n",
       "      <td>4.550471</td>\n",
       "      <td>1</td>\n",
       "      <td>0</td>\n",
       "      <td>0</td>\n",
       "      <td>0</td>\n",
       "      <td>0</td>\n",
       "    </tr>\n",
       "    <tr>\n",
       "      <th>2</th>\n",
       "      <td>2</td>\n",
       "      <td>30.118331</td>\n",
       "      <td>0.0</td>\n",
       "      <td>51.133041</td>\n",
       "      <td>53.2</td>\n",
       "      <td>1018.899996</td>\n",
       "      <td>97.334575</td>\n",
       "      <td>0.0</td>\n",
       "      <td>53.2</td>\n",
       "      <td>27-11-2020 02:15</td>\n",
       "      <td>2.958530</td>\n",
       "      <td>0</td>\n",
       "      <td>0</td>\n",
       "      <td>0</td>\n",
       "      <td>0</td>\n",
       "      <td>1</td>\n",
       "    </tr>\n",
       "    <tr>\n",
       "      <th>3</th>\n",
       "      <td>3</td>\n",
       "      <td>30.111109</td>\n",
       "      <td>0.0</td>\n",
       "      <td>49.833252</td>\n",
       "      <td>51.1</td>\n",
       "      <td>1019.000000</td>\n",
       "      <td>97.255306</td>\n",
       "      <td>0.0</td>\n",
       "      <td>51.1</td>\n",
       "      <td>27-11-2020 03:01</td>\n",
       "      <td>2.416838</td>\n",
       "      <td>1</td>\n",
       "      <td>0</td>\n",
       "      <td>0</td>\n",
       "      <td>0</td>\n",
       "      <td>0</td>\n",
       "    </tr>\n",
       "    <tr>\n",
       "      <th>4</th>\n",
       "      <td>4</td>\n",
       "      <td>30.107498</td>\n",
       "      <td>0.0</td>\n",
       "      <td>47.768617</td>\n",
       "      <td>48.9</td>\n",
       "      <td>1019.000000</td>\n",
       "      <td>97.175395</td>\n",
       "      <td>0.0</td>\n",
       "      <td>48.9</td>\n",
       "      <td>27-11-2020 04:01</td>\n",
       "      <td>1.453117</td>\n",
       "      <td>1</td>\n",
       "      <td>0</td>\n",
       "      <td>0</td>\n",
       "      <td>0</td>\n",
       "      <td>0</td>\n",
       "    </tr>\n",
       "  </tbody>\n",
       "</table>\n",
       "</div>"
      ],
      "text/plain": [
       "   Unnamed: 0       alti  drct       dwpf  feel         mslp       relh  sknt  \\\n",
       "0           0  30.099997   0.0  54.479617  57.7  1018.399996  94.332984   0.0   \n",
       "1           1  30.115998   0.0  53.059670  55.4  1018.899996  96.243318   0.0   \n",
       "2           2  30.118331   0.0  51.133041  53.2  1018.899996  97.334575   0.0   \n",
       "3           3  30.111109   0.0  49.833252  51.1  1019.000000  97.255306   0.0   \n",
       "4           4  30.107498   0.0  47.768617  48.9  1019.000000  97.175395   0.0   \n",
       "\n",
       "   tmpf             valid      vsby  skyc1_CLR  skyc1_FEW  skyc1_OVC  \\\n",
       "0  57.7  27-11-2020 00:15  5.300603          1          0          0   \n",
       "1  55.4  27-11-2020 01:15  4.550471          1          0          0   \n",
       "2  53.2  27-11-2020 02:15  2.958530          0          0          0   \n",
       "3  51.1  27-11-2020 03:01  2.416838          1          0          0   \n",
       "4  48.9  27-11-2020 04:01  1.453117          1          0          0   \n",
       "\n",
       "   skyc1_SCT  skyc1_VV   \n",
       "0          0          0  \n",
       "1          0          0  \n",
       "2          0          1  \n",
       "3          0          0  \n",
       "4          0          0  "
      ]
     },
     "execution_count": 3,
     "metadata": {},
     "output_type": "execute_result"
    }
   ],
   "source": [
    "df.head()"
   ]
  },
  {
   "cell_type": "code",
   "execution_count": 4,
   "id": "421a5bf0",
   "metadata": {},
   "outputs": [
    {
     "data": {
      "text/plain": [
       "<AxesSubplot:>"
      ]
     },
     "execution_count": 4,
     "metadata": {},
     "output_type": "execute_result"
    },
    {
     "data": {
      "image/png": "[encoded data removed]",
      "text/plain": [
       "<Figure size 1440x720 with 2 Axes>"
      ]
     },
     "metadata": {
      "needs_background": "light"
     },
     "output_type": "display_data"
    }
   ],
   "source": [
    "import seaborn as sns\n",
    "import matplotlib.pyplot as plt\n",
    "\n",
    "fig, ax = plt.subplots()\n",
    "fig.set_size_inches(20,10)\n",
    "sns.heatmap(df.corr(), annot=True)"
   ]
  },
  {
   "cell_type": "markdown",
   "id": "5b319dd0",
   "metadata": {},
   "source": [
    "#### Dropping the feel and the valid column.  \n",
    "#### Reason for dropping \"feel\" - redundant due to the tmpf column and low covariance with visibility\n",
    "#### Reason for dropping \"valid\" - datetime column"
   ]
  },
  {
   "cell_type": "code",
   "execution_count": 5,
   "id": "e6d7cce8",
   "metadata": {},
   "outputs": [],
   "source": [
    "df = df.drop(['feel'], axis=1)"
   ]
  },
  {
   "cell_type": "code",
   "execution_count": 6,
   "id": "0d362fc2",
   "metadata": {},
   "outputs": [
    {
     "data": {
      "text/html": [
       "<div>\n",
       "<style scoped>\n",
       "    .dataframe tbody tr th:only-of-type {\n",
       "        vertical-align: middle;\n",
       "    }\n",
       "\n",
       "    .dataframe tbody tr th {\n",
       "        vertical-align: top;\n",
       "    }\n",
       "\n",
       "    .dataframe thead th {\n",
       "        text-align: right;\n",
       "    }\n",
       "</style>\n",
       "<table border=\"1\" class=\"dataframe\">\n",
       "  <thead>\n",
       "    <tr style=\"text-align: right;\">\n",
       "      <th></th>\n",
       "      <th>Unnamed: 0</th>\n",
       "      <th>alti</th>\n",
       "      <th>drct</th>\n",
       "      <th>dwpf</th>\n",
       "      <th>mslp</th>\n",
       "      <th>relh</th>\n",
       "      <th>sknt</th>\n",
       "      <th>tmpf</th>\n",
       "      <th>valid</th>\n",
       "      <th>vsby</th>\n",
       "      <th>skyc1_CLR</th>\n",
       "      <th>skyc1_FEW</th>\n",
       "      <th>skyc1_OVC</th>\n",
       "      <th>skyc1_SCT</th>\n",
       "      <th>skyc1_VV</th>\n",
       "    </tr>\n",
       "  </thead>\n",
       "  <tbody>\n",
       "    <tr>\n",
       "      <th>0</th>\n",
       "      <td>0</td>\n",
       "      <td>30.099997</td>\n",
       "      <td>0.0</td>\n",
       "      <td>54.479617</td>\n",
       "      <td>1018.399996</td>\n",
       "      <td>94.332984</td>\n",
       "      <td>0.0</td>\n",
       "      <td>57.7</td>\n",
       "      <td>27-11-2020 00:15</td>\n",
       "      <td>5.300603</td>\n",
       "      <td>1</td>\n",
       "      <td>0</td>\n",
       "      <td>0</td>\n",
       "      <td>0</td>\n",
       "      <td>0</td>\n",
       "    </tr>\n",
       "    <tr>\n",
       "      <th>1</th>\n",
       "      <td>1</td>\n",
       "      <td>30.115998</td>\n",
       "      <td>0.0</td>\n",
       "      <td>53.059670</td>\n",
       "      <td>1018.899996</td>\n",
       "      <td>96.243318</td>\n",
       "      <td>0.0</td>\n",
       "      <td>55.4</td>\n",
       "      <td>27-11-2020 01:15</td>\n",
       "      <td>4.550471</td>\n",
       "      <td>1</td>\n",
       "      <td>0</td>\n",
       "      <td>0</td>\n",
       "      <td>0</td>\n",
       "      <td>0</td>\n",
       "    </tr>\n",
       "    <tr>\n",
       "      <th>2</th>\n",
       "      <td>2</td>\n",
       "      <td>30.118331</td>\n",
       "      <td>0.0</td>\n",
       "      <td>51.133041</td>\n",
       "      <td>1018.899996</td>\n",
       "      <td>97.334575</td>\n",
       "      <td>0.0</td>\n",
       "      <td>53.2</td>\n",
       "      <td>27-11-2020 02:15</td>\n",
       "      <td>2.958530</td>\n",
       "      <td>0</td>\n",
       "      <td>0</td>\n",
       "      <td>0</td>\n",
       "      <td>0</td>\n",
       "      <td>1</td>\n",
       "    </tr>\n",
       "    <tr>\n",
       "      <th>3</th>\n",
       "      <td>3</td>\n",
       "      <td>30.111109</td>\n",
       "      <td>0.0</td>\n",
       "      <td>49.833252</td>\n",
       "      <td>1019.000000</td>\n",
       "      <td>97.255306</td>\n",
       "      <td>0.0</td>\n",
       "      <td>51.1</td>\n",
       "      <td>27-11-2020 03:01</td>\n",
       "      <td>2.416838</td>\n",
       "      <td>1</td>\n",
       "      <td>0</td>\n",
       "      <td>0</td>\n",
       "      <td>0</td>\n",
       "      <td>0</td>\n",
       "    </tr>\n",
       "    <tr>\n",
       "      <th>4</th>\n",
       "      <td>4</td>\n",
       "      <td>30.107498</td>\n",
       "      <td>0.0</td>\n",
       "      <td>47.768617</td>\n",
       "      <td>1019.000000</td>\n",
       "      <td>97.175395</td>\n",
       "      <td>0.0</td>\n",
       "      <td>48.9</td>\n",
       "      <td>27-11-2020 04:01</td>\n",
       "      <td>1.453117</td>\n",
       "      <td>1</td>\n",
       "      <td>0</td>\n",
       "      <td>0</td>\n",
       "      <td>0</td>\n",
       "      <td>0</td>\n",
       "    </tr>\n",
       "  </tbody>\n",
       "</table>\n",
       "</div>"
      ],
      "text/plain": [
       "   Unnamed: 0       alti  drct       dwpf         mslp       relh  sknt  tmpf  \\\n",
       "0           0  30.099997   0.0  54.479617  1018.399996  94.332984   0.0  57.7   \n",
       "1           1  30.115998   0.0  53.059670  1018.899996  96.243318   0.0  55.4   \n",
       "2           2  30.118331   0.0  51.133041  1018.899996  97.334575   0.0  53.2   \n",
       "3           3  30.111109   0.0  49.833252  1019.000000  97.255306   0.0  51.1   \n",
       "4           4  30.107498   0.0  47.768617  1019.000000  97.175395   0.0  48.9   \n",
       "\n",
       "              valid      vsby  skyc1_CLR  skyc1_FEW  skyc1_OVC  skyc1_SCT  \\\n",
       "0  27-11-2020 00:15  5.300603          1          0          0          0   \n",
       "1  27-11-2020 01:15  4.550471          1          0          0          0   \n",
       "2  27-11-2020 02:15  2.958530          0          0          0          0   \n",
       "3  27-11-2020 03:01  2.416838          1          0          0          0   \n",
       "4  27-11-2020 04:01  1.453117          1          0          0          0   \n",
       "\n",
       "   skyc1_VV   \n",
       "0          0  \n",
       "1          0  \n",
       "2          1  \n",
       "3          0  \n",
       "4          0  "
      ]
     },
     "execution_count": 6,
     "metadata": {},
     "output_type": "execute_result"
    }
   ],
   "source": [
    "df.head()"
   ]
  },
  {
   "cell_type": "markdown",
   "id": "53a4dee4",
   "metadata": {},
   "source": [
    "### Training Data Creation"
   ]
  },
  {
   "cell_type": "code",
   "execution_count": 7,
   "id": "57ac2e58",
   "metadata": {},
   "outputs": [],
   "source": [
    "X_col =  ['alti', 'drct', 'dwpf', 'mslp', 'relh', 'sknt', 'tmpf', 'skyc1_CLR', 'skyc1_FEW', 'skyc1_OVC', 'skyc1_SCT',\n",
    "       'skyc1_VV ']\n",
    "Y_col = ['vsby']"
   ]
  },
  {
   "cell_type": "code",
   "execution_count": 8,
   "id": "9b6df5f8",
   "metadata": {},
   "outputs": [],
   "source": [
    "X = df[X_col]\n",
    "Y = df[Y_col]"
   ]
  },
  {
   "cell_type": "code",
   "execution_count": 9,
   "id": "2929554c",
   "metadata": {},
   "outputs": [
    {
     "data": {
      "text/html": [
       "<div>\n",
       "<style scoped>\n",
       "    .dataframe tbody tr th:only-of-type {\n",
       "        vertical-align: middle;\n",
       "    }\n",
       "\n",
       "    .dataframe tbody tr th {\n",
       "        vertical-align: top;\n",
       "    }\n",
       "\n",
       "    .dataframe thead th {\n",
       "        text-align: right;\n",
       "    }\n",
       "</style>\n",
       "<table border=\"1\" class=\"dataframe\">\n",
       "  <thead>\n",
       "    <tr style=\"text-align: right;\">\n",
       "      <th></th>\n",
       "      <th>alti</th>\n",
       "      <th>drct</th>\n",
       "      <th>dwpf</th>\n",
       "      <th>mslp</th>\n",
       "      <th>relh</th>\n",
       "      <th>sknt</th>\n",
       "      <th>tmpf</th>\n",
       "      <th>skyc1_CLR</th>\n",
       "      <th>skyc1_FEW</th>\n",
       "      <th>skyc1_OVC</th>\n",
       "      <th>skyc1_SCT</th>\n",
       "      <th>skyc1_VV</th>\n",
       "    </tr>\n",
       "  </thead>\n",
       "  <tbody>\n",
       "    <tr>\n",
       "      <th>0</th>\n",
       "      <td>30.099997</td>\n",
       "      <td>0.0</td>\n",
       "      <td>54.479617</td>\n",
       "      <td>1018.399996</td>\n",
       "      <td>94.332984</td>\n",
       "      <td>0.0</td>\n",
       "      <td>57.7</td>\n",
       "      <td>1</td>\n",
       "      <td>0</td>\n",
       "      <td>0</td>\n",
       "      <td>0</td>\n",
       "      <td>0</td>\n",
       "    </tr>\n",
       "    <tr>\n",
       "      <th>1</th>\n",
       "      <td>30.115998</td>\n",
       "      <td>0.0</td>\n",
       "      <td>53.059670</td>\n",
       "      <td>1018.899996</td>\n",
       "      <td>96.243318</td>\n",
       "      <td>0.0</td>\n",
       "      <td>55.4</td>\n",
       "      <td>1</td>\n",
       "      <td>0</td>\n",
       "      <td>0</td>\n",
       "      <td>0</td>\n",
       "      <td>0</td>\n",
       "    </tr>\n",
       "    <tr>\n",
       "      <th>2</th>\n",
       "      <td>30.118331</td>\n",
       "      <td>0.0</td>\n",
       "      <td>51.133041</td>\n",
       "      <td>1018.899996</td>\n",
       "      <td>97.334575</td>\n",
       "      <td>0.0</td>\n",
       "      <td>53.2</td>\n",
       "      <td>0</td>\n",
       "      <td>0</td>\n",
       "      <td>0</td>\n",
       "      <td>0</td>\n",
       "      <td>1</td>\n",
       "    </tr>\n",
       "    <tr>\n",
       "      <th>3</th>\n",
       "      <td>30.111109</td>\n",
       "      <td>0.0</td>\n",
       "      <td>49.833252</td>\n",
       "      <td>1019.000000</td>\n",
       "      <td>97.255306</td>\n",
       "      <td>0.0</td>\n",
       "      <td>51.1</td>\n",
       "      <td>1</td>\n",
       "      <td>0</td>\n",
       "      <td>0</td>\n",
       "      <td>0</td>\n",
       "      <td>0</td>\n",
       "    </tr>\n",
       "    <tr>\n",
       "      <th>4</th>\n",
       "      <td>30.107498</td>\n",
       "      <td>0.0</td>\n",
       "      <td>47.768617</td>\n",
       "      <td>1019.000000</td>\n",
       "      <td>97.175395</td>\n",
       "      <td>0.0</td>\n",
       "      <td>48.9</td>\n",
       "      <td>1</td>\n",
       "      <td>0</td>\n",
       "      <td>0</td>\n",
       "      <td>0</td>\n",
       "      <td>0</td>\n",
       "    </tr>\n",
       "  </tbody>\n",
       "</table>\n",
       "</div>"
      ],
      "text/plain": [
       "        alti  drct       dwpf         mslp       relh  sknt  tmpf  skyc1_CLR  \\\n",
       "0  30.099997   0.0  54.479617  1018.399996  94.332984   0.0  57.7          1   \n",
       "1  30.115998   0.0  53.059670  1018.899996  96.243318   0.0  55.4          1   \n",
       "2  30.118331   0.0  51.133041  1018.899996  97.334575   0.0  53.2          0   \n",
       "3  30.111109   0.0  49.833252  1019.000000  97.255306   0.0  51.1          1   \n",
       "4  30.107498   0.0  47.768617  1019.000000  97.175395   0.0  48.9          1   \n",
       "\n",
       "   skyc1_FEW  skyc1_OVC  skyc1_SCT  skyc1_VV   \n",
       "0          0          0          0          0  \n",
       "1          0          0          0          0  \n",
       "2          0          0          0          1  \n",
       "3          0          0          0          0  \n",
       "4          0          0          0          0  "
      ]
     },
     "execution_count": 9,
     "metadata": {},
     "output_type": "execute_result"
    }
   ],
   "source": [
    "X.head()"
   ]
  },
  {
   "cell_type": "code",
   "execution_count": 10,
   "id": "ae3343ca",
   "metadata": {},
   "outputs": [
    {
     "data": {
      "text/html": [
       "<div>\n",
       "<style scoped>\n",
       "    .dataframe tbody tr th:only-of-type {\n",
       "        vertical-align: middle;\n",
       "    }\n",
       "\n",
       "    .dataframe tbody tr th {\n",
       "        vertical-align: top;\n",
       "    }\n",
       "\n",
       "    .dataframe thead th {\n",
       "        text-align: right;\n",
       "    }\n",
       "</style>\n",
       "<table border=\"1\" class=\"dataframe\">\n",
       "  <thead>\n",
       "    <tr style=\"text-align: right;\">\n",
       "      <th></th>\n",
       "      <th>vsby</th>\n",
       "    </tr>\n",
       "  </thead>\n",
       "  <tbody>\n",
       "    <tr>\n",
       "      <th>0</th>\n",
       "      <td>5.300603</td>\n",
       "    </tr>\n",
       "    <tr>\n",
       "      <th>1</th>\n",
       "      <td>4.550471</td>\n",
       "    </tr>\n",
       "    <tr>\n",
       "      <th>2</th>\n",
       "      <td>2.958530</td>\n",
       "    </tr>\n",
       "    <tr>\n",
       "      <th>3</th>\n",
       "      <td>2.416838</td>\n",
       "    </tr>\n",
       "    <tr>\n",
       "      <th>4</th>\n",
       "      <td>1.453117</td>\n",
       "    </tr>\n",
       "  </tbody>\n",
       "</table>\n",
       "</div>"
      ],
      "text/plain": [
       "       vsby\n",
       "0  5.300603\n",
       "1  4.550471\n",
       "2  2.958530\n",
       "3  2.416838\n",
       "4  1.453117"
      ]
     },
     "execution_count": 10,
     "metadata": {},
     "output_type": "execute_result"
    }
   ],
   "source": [
    "Y.head()"
   ]
  },
  {
   "cell_type": "code",
   "execution_count": 11,
   "id": "c2b05a61",
   "metadata": {},
   "outputs": [],
   "source": [
    "X_train, X_test, y_train, y_test = train_test_split(X, Y, test_size=0.30, random_state=21)"
   ]
  },
  {
   "cell_type": "code",
   "execution_count": 12,
   "id": "cf421588",
   "metadata": {},
   "outputs": [
    {
     "data": {
      "text/plain": [
       "6115"
      ]
     },
     "execution_count": 12,
     "metadata": {},
     "output_type": "execute_result"
    }
   ],
   "source": [
    "len(X_train)"
   ]
  },
  {
   "cell_type": "code",
   "execution_count": 14,
   "id": "d6920fd7",
   "metadata": {},
   "outputs": [
    {
     "data": {
      "text/plain": [
       "2622"
      ]
     },
     "execution_count": 14,
     "metadata": {},
     "output_type": "execute_result"
    }
   ],
   "source": [
    "len(X_test)"
   ]
  },
  {
   "cell_type": "markdown",
   "id": "ac9cc388",
   "metadata": {},
   "source": [
    "### Scaling the train and test set"
   ]
  },
  {
   "cell_type": "code",
   "execution_count": 73,
   "id": "874c9e83",
   "metadata": {},
   "outputs": [],
   "source": [
    "from sklearn.preprocessing import StandardScaler"
   ]
  },
  {
   "cell_type": "code",
   "execution_count": 74,
   "id": "5842475b",
   "metadata": {},
   "outputs": [
    {
     "data": {
      "text/html": [
       "<div>\n",
       "<style scoped>\n",
       "    .dataframe tbody tr th:only-of-type {\n",
       "        vertical-align: middle;\n",
       "    }\n",
       "\n",
       "    .dataframe tbody tr th {\n",
       "        vertical-align: top;\n",
       "    }\n",
       "\n",
       "    .dataframe thead th {\n",
       "        text-align: right;\n",
       "    }\n",
       "</style>\n",
       "<table border=\"1\" class=\"dataframe\">\n",
       "  <thead>\n",
       "    <tr style=\"text-align: right;\">\n",
       "      <th></th>\n",
       "      <th>alti</th>\n",
       "      <th>drct</th>\n",
       "      <th>dwpf</th>\n",
       "      <th>mslp</th>\n",
       "      <th>relh</th>\n",
       "      <th>sknt</th>\n",
       "      <th>tmpf</th>\n",
       "      <th>skyc1_CLR</th>\n",
       "      <th>skyc1_FEW</th>\n",
       "      <th>skyc1_OVC</th>\n",
       "      <th>skyc1_SCT</th>\n",
       "      <th>skyc1_VV</th>\n",
       "    </tr>\n",
       "  </thead>\n",
       "  <tbody>\n",
       "    <tr>\n",
       "      <th>5965</th>\n",
       "      <td>30.053997</td>\n",
       "      <td>209.985020</td>\n",
       "      <td>65.779806</td>\n",
       "      <td>1015.550009</td>\n",
       "      <td>55.937730</td>\n",
       "      <td>3.399920</td>\n",
       "      <td>82.8</td>\n",
       "      <td>1</td>\n",
       "      <td>0</td>\n",
       "      <td>0</td>\n",
       "      <td>0</td>\n",
       "      <td>0</td>\n",
       "    </tr>\n",
       "    <tr>\n",
       "      <th>5752</th>\n",
       "      <td>30.083996</td>\n",
       "      <td>206.666667</td>\n",
       "      <td>70.299739</td>\n",
       "      <td>1016.300007</td>\n",
       "      <td>54.521392</td>\n",
       "      <td>4.499964</td>\n",
       "      <td>88.0</td>\n",
       "      <td>1</td>\n",
       "      <td>0</td>\n",
       "      <td>0</td>\n",
       "      <td>0</td>\n",
       "      <td>0</td>\n",
       "    </tr>\n",
       "    <tr>\n",
       "      <th>2899</th>\n",
       "      <td>30.068746</td>\n",
       "      <td>228.750892</td>\n",
       "      <td>62.812304</td>\n",
       "      <td>1016.450002</td>\n",
       "      <td>54.034792</td>\n",
       "      <td>11.124563</td>\n",
       "      <td>81.0</td>\n",
       "      <td>0</td>\n",
       "      <td>0</td>\n",
       "      <td>0</td>\n",
       "      <td>0</td>\n",
       "      <td>0</td>\n",
       "    </tr>\n",
       "    <tr>\n",
       "      <th>7197</th>\n",
       "      <td>29.991998</td>\n",
       "      <td>244.009044</td>\n",
       "      <td>56.919761</td>\n",
       "      <td>1014.100011</td>\n",
       "      <td>81.166790</td>\n",
       "      <td>4.000357</td>\n",
       "      <td>62.8</td>\n",
       "      <td>1</td>\n",
       "      <td>0</td>\n",
       "      <td>0</td>\n",
       "      <td>0</td>\n",
       "      <td>0</td>\n",
       "    </tr>\n",
       "    <tr>\n",
       "      <th>2761</th>\n",
       "      <td>30.267998</td>\n",
       "      <td>79.989729</td>\n",
       "      <td>43.679770</td>\n",
       "      <td>1024.349995</td>\n",
       "      <td>77.396838</td>\n",
       "      <td>1.199846</td>\n",
       "      <td>51.1</td>\n",
       "      <td>1</td>\n",
       "      <td>0</td>\n",
       "      <td>0</td>\n",
       "      <td>0</td>\n",
       "      <td>0</td>\n",
       "    </tr>\n",
       "  </tbody>\n",
       "</table>\n",
       "</div>"
      ],
      "text/plain": [
       "           alti        drct       dwpf         mslp       relh       sknt  \\\n",
       "5965  30.053997  209.985020  65.779806  1015.550009  55.937730   3.399920   \n",
       "5752  30.083996  206.666667  70.299739  1016.300007  54.521392   4.499964   \n",
       "2899  30.068746  228.750892  62.812304  1016.450002  54.034792  11.124563   \n",
       "7197  29.991998  244.009044  56.919761  1014.100011  81.166790   4.000357   \n",
       "2761  30.267998   79.989729  43.679770  1024.349995  77.396838   1.199846   \n",
       "\n",
       "      tmpf  skyc1_CLR  skyc1_FEW  skyc1_OVC  skyc1_SCT  skyc1_VV   \n",
       "5965  82.8          1          0          0          0          0  \n",
       "5752  88.0          1          0          0          0          0  \n",
       "2899  81.0          0          0          0          0          0  \n",
       "7197  62.8          1          0          0          0          0  \n",
       "2761  51.1          1          0          0          0          0  "
      ]
     },
     "execution_count": 74,
     "metadata": {},
     "output_type": "execute_result"
    }
   ],
   "source": [
    "X_train.head()"
   ]
  },
  {
   "cell_type": "code",
   "execution_count": 75,
   "id": "c2f929a1",
   "metadata": {},
   "outputs": [
    {
     "data": {
      "text/html": [
       "<div>\n",
       "<style scoped>\n",
       "    .dataframe tbody tr th:only-of-type {\n",
       "        vertical-align: middle;\n",
       "    }\n",
       "\n",
       "    .dataframe tbody tr th {\n",
       "        vertical-align: top;\n",
       "    }\n",
       "\n",
       "    .dataframe thead th {\n",
       "        text-align: right;\n",
       "    }\n",
       "</style>\n",
       "<table border=\"1\" class=\"dataframe\">\n",
       "  <thead>\n",
       "    <tr style=\"text-align: right;\">\n",
       "      <th></th>\n",
       "      <th>alti</th>\n",
       "      <th>drct</th>\n",
       "      <th>dwpf</th>\n",
       "      <th>mslp</th>\n",
       "      <th>relh</th>\n",
       "      <th>sknt</th>\n",
       "      <th>tmpf</th>\n",
       "      <th>skyc1_CLR</th>\n",
       "      <th>skyc1_FEW</th>\n",
       "      <th>skyc1_OVC</th>\n",
       "      <th>skyc1_SCT</th>\n",
       "      <th>skyc1_VV</th>\n",
       "    </tr>\n",
       "  </thead>\n",
       "  <tbody>\n",
       "    <tr>\n",
       "      <th>8370</th>\n",
       "      <td>30.121996</td>\n",
       "      <td>138.001541</td>\n",
       "      <td>44.379707</td>\n",
       "      <td>1018.749995</td>\n",
       "      <td>37.575387</td>\n",
       "      <td>3.400077</td>\n",
       "      <td>73.8</td>\n",
       "      <td>1</td>\n",
       "      <td>0</td>\n",
       "      <td>0</td>\n",
       "      <td>0</td>\n",
       "      <td>0</td>\n",
       "    </tr>\n",
       "    <tr>\n",
       "      <th>984</th>\n",
       "      <td>30.185997</td>\n",
       "      <td>0.000000</td>\n",
       "      <td>30.839507</td>\n",
       "      <td>1022.349980</td>\n",
       "      <td>71.991030</td>\n",
       "      <td>0.000000</td>\n",
       "      <td>37.9</td>\n",
       "      <td>1</td>\n",
       "      <td>0</td>\n",
       "      <td>0</td>\n",
       "      <td>0</td>\n",
       "      <td>0</td>\n",
       "    </tr>\n",
       "    <tr>\n",
       "      <th>7110</th>\n",
       "      <td>30.103997</td>\n",
       "      <td>39.998431</td>\n",
       "      <td>71.479953</td>\n",
       "      <td>1017.500007</td>\n",
       "      <td>97.791837</td>\n",
       "      <td>1.799983</td>\n",
       "      <td>73.9</td>\n",
       "      <td>0</td>\n",
       "      <td>0</td>\n",
       "      <td>0</td>\n",
       "      <td>0</td>\n",
       "      <td>0</td>\n",
       "    </tr>\n",
       "    <tr>\n",
       "      <th>5906</th>\n",
       "      <td>30.031997</td>\n",
       "      <td>180.014551</td>\n",
       "      <td>73.399705</td>\n",
       "      <td>1014.450016</td>\n",
       "      <td>88.696603</td>\n",
       "      <td>2.200174</td>\n",
       "      <td>75.9</td>\n",
       "      <td>1</td>\n",
       "      <td>0</td>\n",
       "      <td>0</td>\n",
       "      <td>0</td>\n",
       "      <td>0</td>\n",
       "    </tr>\n",
       "    <tr>\n",
       "      <th>7060</th>\n",
       "      <td>30.087500</td>\n",
       "      <td>0.000000</td>\n",
       "      <td>69.724989</td>\n",
       "      <td>1017.700004</td>\n",
       "      <td>94.322433</td>\n",
       "      <td>0.000000</td>\n",
       "      <td>71.1</td>\n",
       "      <td>0</td>\n",
       "      <td>1</td>\n",
       "      <td>0</td>\n",
       "      <td>0</td>\n",
       "      <td>0</td>\n",
       "    </tr>\n",
       "  </tbody>\n",
       "</table>\n",
       "</div>"
      ],
      "text/plain": [
       "           alti        drct       dwpf         mslp       relh      sknt  \\\n",
       "8370  30.121996  138.001541  44.379707  1018.749995  37.575387  3.400077   \n",
       "984   30.185997    0.000000  30.839507  1022.349980  71.991030  0.000000   \n",
       "7110  30.103997   39.998431  71.479953  1017.500007  97.791837  1.799983   \n",
       "5906  30.031997  180.014551  73.399705  1014.450016  88.696603  2.200174   \n",
       "7060  30.087500    0.000000  69.724989  1017.700004  94.322433  0.000000   \n",
       "\n",
       "      tmpf  skyc1_CLR  skyc1_FEW  skyc1_OVC  skyc1_SCT  skyc1_VV   \n",
       "8370  73.8          1          0          0          0          0  \n",
       "984   37.9          1          0          0          0          0  \n",
       "7110  73.9          0          0          0          0          0  \n",
       "5906  75.9          1          0          0          0          0  \n",
       "7060  71.1          0          1          0          0          0  "
      ]
     },
     "execution_count": 75,
     "metadata": {},
     "output_type": "execute_result"
    }
   ],
   "source": [
    "X_test.head()"
   ]
  },
  {
   "cell_type": "code",
   "execution_count": 76,
   "id": "b7115da7",
   "metadata": {},
   "outputs": [
    {
     "name": "stderr",
     "output_type": "stream",
     "text": [
      "C:\\Users\\Rutuja\\anaconda3\\lib\\site-packages\\pandas\\core\\indexing.py:1736: SettingWithCopyWarning: \n",
      "A value is trying to be set on a copy of a slice from a DataFrame.\n",
      "Try using .loc[row_indexer,col_indexer] = value instead\n",
      "\n",
      "See the caveats in the documentation: https://pandas.pydata.org/pandas-docs/stable/user_guide/indexing.html#returning-a-view-versus-a-copy\n",
      "  isetter(loc, value[:, i].tolist())\n"
     ]
    }
   ],
   "source": [
    "scaler = StandardScaler()\n",
    "continuous_col = ['alti', 'drct', 'dwpf', 'mslp', 'relh', 'sknt', 'tmpf']\n",
    "X_train.loc[:,continuous_col]= scaler.fit_transform(X_train.loc[:,continuous_col])"
   ]
  },
  {
   "cell_type": "code",
   "execution_count": 77,
   "id": "799505e9",
   "metadata": {},
   "outputs": [
    {
     "data": {
      "text/html": [
       "<div>\n",
       "<style scoped>\n",
       "    .dataframe tbody tr th:only-of-type {\n",
       "        vertical-align: middle;\n",
       "    }\n",
       "\n",
       "    .dataframe tbody tr th {\n",
       "        vertical-align: top;\n",
       "    }\n",
       "\n",
       "    .dataframe thead th {\n",
       "        text-align: right;\n",
       "    }\n",
       "</style>\n",
       "<table border=\"1\" class=\"dataframe\">\n",
       "  <thead>\n",
       "    <tr style=\"text-align: right;\">\n",
       "      <th></th>\n",
       "      <th>alti</th>\n",
       "      <th>drct</th>\n",
       "      <th>dwpf</th>\n",
       "      <th>mslp</th>\n",
       "      <th>relh</th>\n",
       "      <th>sknt</th>\n",
       "      <th>tmpf</th>\n",
       "      <th>skyc1_CLR</th>\n",
       "      <th>skyc1_FEW</th>\n",
       "      <th>skyc1_OVC</th>\n",
       "      <th>skyc1_SCT</th>\n",
       "      <th>skyc1_VV</th>\n",
       "    </tr>\n",
       "  </thead>\n",
       "  <tbody>\n",
       "    <tr>\n",
       "      <th>5965</th>\n",
       "      <td>-0.345743</td>\n",
       "      <td>0.717835</td>\n",
       "      <td>0.863027</td>\n",
       "      <td>-0.520180</td>\n",
       "      <td>-0.943603</td>\n",
       "      <td>-0.198330</td>\n",
       "      <td>1.416178</td>\n",
       "      <td>1</td>\n",
       "      <td>0</td>\n",
       "      <td>0</td>\n",
       "      <td>0</td>\n",
       "      <td>0</td>\n",
       "    </tr>\n",
       "    <tr>\n",
       "      <th>5752</th>\n",
       "      <td>-0.138556</td>\n",
       "      <td>0.685729</td>\n",
       "      <td>1.143432</td>\n",
       "      <td>-0.374529</td>\n",
       "      <td>-1.012992</td>\n",
       "      <td>0.159431</td>\n",
       "      <td>1.750315</td>\n",
       "      <td>1</td>\n",
       "      <td>0</td>\n",
       "      <td>0</td>\n",
       "      <td>0</td>\n",
       "      <td>0</td>\n",
       "    </tr>\n",
       "    <tr>\n",
       "      <th>2899</th>\n",
       "      <td>-0.243882</td>\n",
       "      <td>0.899403</td>\n",
       "      <td>0.678931</td>\n",
       "      <td>-0.345399</td>\n",
       "      <td>-1.036831</td>\n",
       "      <td>2.313914</td>\n",
       "      <td>1.300515</td>\n",
       "      <td>0</td>\n",
       "      <td>0</td>\n",
       "      <td>0</td>\n",
       "      <td>0</td>\n",
       "      <td>0</td>\n",
       "    </tr>\n",
       "    <tr>\n",
       "      <th>7197</th>\n",
       "      <td>-0.773943</td>\n",
       "      <td>1.047032</td>\n",
       "      <td>0.313373</td>\n",
       "      <td>-0.801774</td>\n",
       "      <td>0.292412</td>\n",
       "      <td>-0.003053</td>\n",
       "      <td>0.131035</td>\n",
       "      <td>1</td>\n",
       "      <td>0</td>\n",
       "      <td>0</td>\n",
       "      <td>0</td>\n",
       "      <td>0</td>\n",
       "    </tr>\n",
       "    <tr>\n",
       "      <th>2761</th>\n",
       "      <td>1.132252</td>\n",
       "      <td>-0.539924</td>\n",
       "      <td>-0.508001</td>\n",
       "      <td>1.188800</td>\n",
       "      <td>0.107716</td>\n",
       "      <td>-0.913848</td>\n",
       "      <td>-0.620773</td>\n",
       "      <td>1</td>\n",
       "      <td>0</td>\n",
       "      <td>0</td>\n",
       "      <td>0</td>\n",
       "      <td>0</td>\n",
       "    </tr>\n",
       "  </tbody>\n",
       "</table>\n",
       "</div>"
      ],
      "text/plain": [
       "          alti      drct      dwpf      mslp      relh      sknt      tmpf  \\\n",
       "5965 -0.345743  0.717835  0.863027 -0.520180 -0.943603 -0.198330  1.416178   \n",
       "5752 -0.138556  0.685729  1.143432 -0.374529 -1.012992  0.159431  1.750315   \n",
       "2899 -0.243882  0.899403  0.678931 -0.345399 -1.036831  2.313914  1.300515   \n",
       "7197 -0.773943  1.047032  0.313373 -0.801774  0.292412 -0.003053  0.131035   \n",
       "2761  1.132252 -0.539924 -0.508001  1.188800  0.107716 -0.913848 -0.620773   \n",
       "\n",
       "      skyc1_CLR  skyc1_FEW  skyc1_OVC  skyc1_SCT  skyc1_VV   \n",
       "5965          1          0          0          0          0  \n",
       "5752          1          0          0          0          0  \n",
       "2899          0          0          0          0          0  \n",
       "7197          1          0          0          0          0  \n",
       "2761          1          0          0          0          0  "
      ]
     },
     "execution_count": 77,
     "metadata": {},
     "output_type": "execute_result"
    }
   ],
   "source": [
    "X_train.head()"
   ]
  },
  {
   "cell_type": "code",
   "execution_count": 78,
   "id": "a1ab324f",
   "metadata": {},
   "outputs": [
    {
     "name": "stderr",
     "output_type": "stream",
     "text": [
      "C:\\Users\\Rutuja\\anaconda3\\lib\\site-packages\\pandas\\core\\indexing.py:1736: SettingWithCopyWarning: \n",
      "A value is trying to be set on a copy of a slice from a DataFrame.\n",
      "Try using .loc[row_indexer,col_indexer] = value instead\n",
      "\n",
      "See the caveats in the documentation: https://pandas.pydata.org/pandas-docs/stable/user_guide/indexing.html#returning-a-view-versus-a-copy\n",
      "  isetter(loc, value[:, i].tolist())\n"
     ]
    }
   ],
   "source": [
    "X_test.loc[:,continuous_col]=scaler.transform(X_test.loc[:,continuous_col])"
   ]
  },
  {
   "cell_type": "code",
   "execution_count": 79,
   "id": "ca4e16e9",
   "metadata": {},
   "outputs": [
    {
     "data": {
      "text/html": [
       "<div>\n",
       "<style scoped>\n",
       "    .dataframe tbody tr th:only-of-type {\n",
       "        vertical-align: middle;\n",
       "    }\n",
       "\n",
       "    .dataframe tbody tr th {\n",
       "        vertical-align: top;\n",
       "    }\n",
       "\n",
       "    .dataframe thead th {\n",
       "        text-align: right;\n",
       "    }\n",
       "</style>\n",
       "<table border=\"1\" class=\"dataframe\">\n",
       "  <thead>\n",
       "    <tr style=\"text-align: right;\">\n",
       "      <th></th>\n",
       "      <th>alti</th>\n",
       "      <th>drct</th>\n",
       "      <th>dwpf</th>\n",
       "      <th>mslp</th>\n",
       "      <th>relh</th>\n",
       "      <th>sknt</th>\n",
       "      <th>tmpf</th>\n",
       "      <th>skyc1_CLR</th>\n",
       "      <th>skyc1_FEW</th>\n",
       "      <th>skyc1_OVC</th>\n",
       "      <th>skyc1_SCT</th>\n",
       "      <th>skyc1_VV</th>\n",
       "    </tr>\n",
       "  </thead>\n",
       "  <tbody>\n",
       "    <tr>\n",
       "      <th>8370</th>\n",
       "      <td>0.123893</td>\n",
       "      <td>0.021365</td>\n",
       "      <td>-0.464579</td>\n",
       "      <td>0.101265</td>\n",
       "      <td>-1.843205</td>\n",
       "      <td>-0.198279</td>\n",
       "      <td>0.837864</td>\n",
       "      <td>1</td>\n",
       "      <td>0</td>\n",
       "      <td>0</td>\n",
       "      <td>0</td>\n",
       "      <td>0</td>\n",
       "    </tr>\n",
       "    <tr>\n",
       "      <th>984</th>\n",
       "      <td>0.565915</td>\n",
       "      <td>-1.313858</td>\n",
       "      <td>-1.304578</td>\n",
       "      <td>0.800392</td>\n",
       "      <td>-0.157124</td>\n",
       "      <td>-1.304068</td>\n",
       "      <td>-1.468968</td>\n",
       "      <td>1</td>\n",
       "      <td>0</td>\n",
       "      <td>0</td>\n",
       "      <td>0</td>\n",
       "      <td>0</td>\n",
       "    </tr>\n",
       "    <tr>\n",
       "      <th>7110</th>\n",
       "      <td>-0.000417</td>\n",
       "      <td>-0.926857</td>\n",
       "      <td>1.216649</td>\n",
       "      <td>-0.141485</td>\n",
       "      <td>1.106902</td>\n",
       "      <td>-0.718669</td>\n",
       "      <td>0.844289</td>\n",
       "      <td>0</td>\n",
       "      <td>0</td>\n",
       "      <td>0</td>\n",
       "      <td>0</td>\n",
       "      <td>0</td>\n",
       "    </tr>\n",
       "    <tr>\n",
       "      <th>5906</th>\n",
       "      <td>-0.497688</td>\n",
       "      <td>0.427858</td>\n",
       "      <td>1.335746</td>\n",
       "      <td>-0.733802</td>\n",
       "      <td>0.661311</td>\n",
       "      <td>-0.588517</td>\n",
       "      <td>0.972804</td>\n",
       "      <td>1</td>\n",
       "      <td>0</td>\n",
       "      <td>0</td>\n",
       "      <td>0</td>\n",
       "      <td>0</td>\n",
       "    </tr>\n",
       "    <tr>\n",
       "      <th>7060</th>\n",
       "      <td>-0.114358</td>\n",
       "      <td>-1.313858</td>\n",
       "      <td>1.107776</td>\n",
       "      <td>-0.102646</td>\n",
       "      <td>0.936930</td>\n",
       "      <td>-1.304068</td>\n",
       "      <td>0.664369</td>\n",
       "      <td>0</td>\n",
       "      <td>1</td>\n",
       "      <td>0</td>\n",
       "      <td>0</td>\n",
       "      <td>0</td>\n",
       "    </tr>\n",
       "  </tbody>\n",
       "</table>\n",
       "</div>"
      ],
      "text/plain": [
       "          alti      drct      dwpf      mslp      relh      sknt      tmpf  \\\n",
       "8370  0.123893  0.021365 -0.464579  0.101265 -1.843205 -0.198279  0.837864   \n",
       "984   0.565915 -1.313858 -1.304578  0.800392 -0.157124 -1.304068 -1.468968   \n",
       "7110 -0.000417 -0.926857  1.216649 -0.141485  1.106902 -0.718669  0.844289   \n",
       "5906 -0.497688  0.427858  1.335746 -0.733802  0.661311 -0.588517  0.972804   \n",
       "7060 -0.114358 -1.313858  1.107776 -0.102646  0.936930 -1.304068  0.664369   \n",
       "\n",
       "      skyc1_CLR  skyc1_FEW  skyc1_OVC  skyc1_SCT  skyc1_VV   \n",
       "8370          1          0          0          0          0  \n",
       "984           1          0          0          0          0  \n",
       "7110          0          0          0          0          0  \n",
       "5906          1          0          0          0          0  \n",
       "7060          0          1          0          0          0  "
      ]
     },
     "execution_count": 79,
     "metadata": {},
     "output_type": "execute_result"
    }
   ],
   "source": [
    "X_test.head()"
   ]
  },
  {
   "cell_type": "markdown",
   "id": "9f297dfd",
   "metadata": {},
   "source": [
    "### Ridge Regression for Current Predictions"
   ]
  },
  {
   "cell_type": "code",
   "execution_count": 113,
   "id": "a84de732",
   "metadata": {},
   "outputs": [],
   "source": [
    "from sklearn.model_selection import GridSearchCV\n",
    "from sklearn.linear_model import Ridge\n",
    "from sklearn.metrics import mean_squared_error"
   ]
  },
  {
   "cell_type": "code",
   "execution_count": 109,
   "id": "46eacddc",
   "metadata": {},
   "outputs": [],
   "source": [
    "grid={\"alpha\":[0.01,0.1, 1,10],\n",
    "      \"fit_intercept\": [True,False],\n",
    "      \"solver\" : ['auto', 'svd', 'cholesky', 'lsqr']\n",
    "     }"
   ]
  },
  {
   "cell_type": "code",
   "execution_count": 110,
   "id": "9d51b867",
   "metadata": {},
   "outputs": [
    {
     "name": "stdout",
     "output_type": "stream",
     "text": [
      "tuned hpyerparameters :(best parameters)  {'alpha': 0.1, 'fit_intercept': True, 'solver': 'svd'}\n"
     ]
    }
   ],
   "source": [
    "ridreg=Ridge()\n",
    "ridreg_cv=GridSearchCV(ridreg,grid,cv=5)\n",
    "ridreg_cv.fit(X_train,y_train)\n",
    "\n",
    "print(\"tuned hpyerparameters :(best parameters) \",ridreg_cv.best_params_)"
   ]
  },
  {
   "cell_type": "code",
   "execution_count": 114,
   "id": "0d7a0b88",
   "metadata": {},
   "outputs": [
    {
     "data": {
      "text/plain": [
       "1.8875339846613206"
      ]
     },
     "execution_count": 114,
     "metadata": {},
     "output_type": "execute_result"
    }
   ],
   "source": [
    "ridreg2=Ridge(alpha=0.1,fit_intercept=True, solver = 'svd')\n",
    "ridreg2.fit(X_train,y_train)"
   ]
  },
  {
   "cell_type": "markdown",
   "id": "2c746738",
   "metadata": {},
   "source": [
    "##### Train MSE for Ridge Regression"
   ]
  },
  {
   "cell_type": "code",
   "execution_count": 126,
   "id": "d822919c",
   "metadata": {},
   "outputs": [
    {
     "data": {
      "text/plain": [
       "1.8875339846613206"
      ]
     },
     "execution_count": 126,
     "metadata": {},
     "output_type": "execute_result"
    }
   ],
   "source": [
    "mean_squared_error(y_train, ridreg2.predict(X_train))"
   ]
  },
  {
   "cell_type": "markdown",
   "id": "443ec216",
   "metadata": {},
   "source": [
    "##### Test MSE for Ridge Regression"
   ]
  },
  {
   "cell_type": "code",
   "execution_count": 127,
   "id": "35cad17b",
   "metadata": {},
   "outputs": [
    {
     "data": {
      "text/plain": [
       "1.9927944598843714"
      ]
     },
     "execution_count": 127,
     "metadata": {},
     "output_type": "execute_result"
    }
   ],
   "source": [
    "mean_squared_error(y_test, ridreg2.predict(X_test))"
   ]
  },
  {
   "cell_type": "markdown",
   "id": "dabfb812",
   "metadata": {},
   "source": [
    "### Baseline Model - Train Average"
   ]
  },
  {
   "cell_type": "code",
   "execution_count": 131,
   "id": "ef81ff08",
   "metadata": {},
   "outputs": [
    {
     "data": {
      "text/html": [
       "<div>\n",
       "<style scoped>\n",
       "    .dataframe tbody tr th:only-of-type {\n",
       "        vertical-align: middle;\n",
       "    }\n",
       "\n",
       "    .dataframe tbody tr th {\n",
       "        vertical-align: top;\n",
       "    }\n",
       "\n",
       "    .dataframe thead th {\n",
       "        text-align: right;\n",
       "    }\n",
       "</style>\n",
       "<table border=\"1\" class=\"dataframe\">\n",
       "  <thead>\n",
       "    <tr style=\"text-align: right;\">\n",
       "      <th></th>\n",
       "      <th>vsby</th>\n",
       "    </tr>\n",
       "  </thead>\n",
       "  <tbody>\n",
       "    <tr>\n",
       "      <th>5965</th>\n",
       "      <td>9.599937</td>\n",
       "    </tr>\n",
       "    <tr>\n",
       "      <th>5752</th>\n",
       "      <td>9.399906</td>\n",
       "    </tr>\n",
       "    <tr>\n",
       "      <th>2899</th>\n",
       "      <td>10.000000</td>\n",
       "    </tr>\n",
       "    <tr>\n",
       "      <th>7197</th>\n",
       "      <td>10.000000</td>\n",
       "    </tr>\n",
       "    <tr>\n",
       "      <th>2761</th>\n",
       "      <td>10.000000</td>\n",
       "    </tr>\n",
       "  </tbody>\n",
       "</table>\n",
       "</div>"
      ],
      "text/plain": [
       "           vsby\n",
       "5965   9.599937\n",
       "5752   9.399906\n",
       "2899  10.000000\n",
       "7197  10.000000\n",
       "2761  10.000000"
      ]
     },
     "execution_count": 131,
     "metadata": {},
     "output_type": "execute_result"
    }
   ],
   "source": [
    "y_train.head()"
   ]
  },
  {
   "cell_type": "markdown",
   "id": "70f6bb5f",
   "metadata": {},
   "source": [
    "##### Overall average of y_train is is the prediction for X_test in our baseline"
   ]
  },
  {
   "cell_type": "code",
   "execution_count": 137,
   "id": "9b6a56a8",
   "metadata": {},
   "outputs": [
    {
     "name": "stdout",
     "output_type": "stream",
     "text": [
      "9.220581003043455\n"
     ]
    }
   ],
   "source": [
    "train_avg = (y_train[\"vsby\"].sum())/(len(y_train))\n",
    "print(train_avg)"
   ]
  },
  {
   "cell_type": "markdown",
   "id": "4b6ae655",
   "metadata": {},
   "source": [
    "##### Test RMSE for Baseline"
   ]
  },
  {
   "cell_type": "code",
   "execution_count": 138,
   "id": "0bd24a7a",
   "metadata": {},
   "outputs": [
    {
     "data": {
      "text/plain": [
       "3.0374418420691702"
      ]
     },
     "execution_count": 138,
     "metadata": {},
     "output_type": "execute_result"
    }
   ],
   "source": [
    "mean_squared_error(y_test,[train_avg]*len(y_test))"
   ]
  },
  {
   "cell_type": "markdown",
   "id": "3512ac75",
   "metadata": {},
   "source": [
    "### XGBoost"
   ]
  },
  {
   "cell_type": "code",
   "execution_count": 142,
   "id": "bc5cff6f",
   "metadata": {},
   "outputs": [],
   "source": [
    "import xgboost as xgb"
   ]
  },
  {
   "cell_type": "code",
   "execution_count": 144,
   "id": "1e04511a",
   "metadata": {},
   "outputs": [],
   "source": [
    "D_train = xgb.DMatrix(X_train, label=y_train)\n",
    "D_test = xgb.DMatrix(X_test, label=y_test)"
   ]
  },
  {
   "cell_type": "code",
   "execution_count": 149,
   "id": "f81b473b",
   "metadata": {},
   "outputs": [],
   "source": [
    "grid = {\n",
    "     \"eta\" : [0.00, 0.10, 0.20, ] ,\n",
    "     \"max_depth\" : [  5, 6, 8 ],\n",
    "     \"min_child_weight\" : [ 3, 5, 7 ],\n",
    "     \"gamma\" : [ 0.0, 0.1, 0.2, 0.4 ],\n",
    "     }"
   ]
  },
  {
   "cell_type": "code",
   "execution_count": 151,
   "id": "fffc763d",
   "metadata": {},
   "outputs": [
    {
     "data": {
      "text/plain": [
       "GridSearchCV(cv=5,\n",
       "             estimator=XGBRegressor(base_score=None, booster=None,\n",
       "                                    colsample_bylevel=None,\n",
       "                                    colsample_bynode=None,\n",
       "                                    colsample_bytree=None,\n",
       "                                    enable_categorical=False, gamma=None,\n",
       "                                    gpu_id=None, importance_type=None,\n",
       "                                    interaction_constraints=None,\n",
       "                                    learning_rate=None, max_delta_step=None,\n",
       "                                    max_depth=None, min_child_weight=None,\n",
       "                                    missing=nan, monotone_constraints=None,\n",
       "                                    n_estimators=100, n_jobs=None,\n",
       "                                    num_parallel_tree=None, predictor=None,\n",
       "                                    random_state=None, reg_alpha=None,\n",
       "                                    reg_lambda=None, scale_pos_weight=None,\n",
       "                                    subsample=None, tree_method=None,\n",
       "                                    validate_parameters=None, verbosity=None),\n",
       "             param_grid={'eta': [0.0, 0.1, 0.2], 'gamma': [0.0, 0.1, 0.2, 0.4],\n",
       "                         'max_depth': [5, 6, 8],\n",
       "                         'min_child_weight': [3, 5, 7]},\n",
       "             scoring='neg_mean_squared_error')"
      ]
     },
     "execution_count": 151,
     "metadata": {},
     "output_type": "execute_result"
    }
   ],
   "source": [
    "xgb_model = xgb.XGBRegressor()\n",
    "xgb_model_cv=GridSearchCV(xgb_model,grid,cv=5, scoring='neg_mean_squared_error')\n",
    "xgb_model_cv.fit(X_train,y_train)"
   ]
  },
  {
   "cell_type": "code",
   "execution_count": 152,
   "id": "2ad4bffd",
   "metadata": {},
   "outputs": [
    {
     "name": "stdout",
     "output_type": "stream",
     "text": [
      "tuned hpyerparameters :(best parameters)  {'eta': 0.2, 'gamma': 0.0, 'max_depth': 8, 'min_child_weight': 5}\n"
     ]
    }
   ],
   "source": [
    "print(\"tuned hpyerparameters :(best parameters) \",xgb_model_cv.best_params_)"
   ]
  },
  {
   "cell_type": "code",
   "execution_count": 153,
   "id": "94b05afc",
   "metadata": {},
   "outputs": [
    {
     "data": {
      "text/plain": [
       "XGBRegressor(base_score=0.5, booster='gbtree', colsample_bylevel=1,\n",
       "             colsample_bynode=1, colsample_bytree=1, enable_categorical=False,\n",
       "             eta=0.2, gamma=0.0, gpu_id=-1, importance_type=None,\n",
       "             interaction_constraints='', learning_rate=0.200000003,\n",
       "             max_delta_step=0, max_depth=8, min_child_weight=5, missing=nan,\n",
       "             monotone_constraints='()', n_estimators=100, n_jobs=16,\n",
       "             num_parallel_tree=1, predictor='auto', random_state=0, reg_alpha=0,\n",
       "             reg_lambda=1, scale_pos_weight=1, subsample=1, tree_method='exact',\n",
       "             validate_parameters=1, verbosity=None)"
      ]
     },
     "execution_count": 153,
     "metadata": {},
     "output_type": "execute_result"
    }
   ],
   "source": [
    "xgb_model2=xgb.XGBRegressor(eta=0.2,max_depth=8, min_child_weight = 5, gamma=0.0 )\n",
    "xgb_model2.fit(X_train,y_train)"
   ]
  },
  {
   "cell_type": "markdown",
   "id": "0ba5ff80",
   "metadata": {},
   "source": [
    "##### Train MSE for XGBoost"
   ]
  },
  {
   "cell_type": "code",
   "execution_count": 154,
   "id": "9ad58747",
   "metadata": {},
   "outputs": [
    {
     "data": {
      "text/plain": [
       "0.12194748771601115"
      ]
     },
     "execution_count": 154,
     "metadata": {},
     "output_type": "execute_result"
    }
   ],
   "source": [
    "mean_squared_error(y_train, xgb_model2.predict(X_train))"
   ]
  },
  {
   "cell_type": "markdown",
   "id": "76fb1159",
   "metadata": {},
   "source": [
    "##### Test MSE for XGBoost"
   ]
  },
  {
   "cell_type": "code",
   "execution_count": 156,
   "id": "495e4beb",
   "metadata": {},
   "outputs": [
    {
     "data": {
      "text/plain": [
       "0.9978607212745725"
      ]
     },
     "execution_count": 156,
     "metadata": {},
     "output_type": "execute_result"
    }
   ],
   "source": [
    "mean_squared_error(y_test, xgb_model2.predict(X_test))"
   ]
  },
  {
   "cell_type": "markdown",
   "id": "5c9f9234",
   "metadata": {},
   "source": [
    "### Summary for Current Predictions"
   ]
  },
  {
   "cell_type": "markdown",
   "id": "62bb671c",
   "metadata": {},
   "source": [
    "Model             MSE\n",
    "Baseline          3.0374\n",
    "Ridge Regression  1.9927\n",
    "XGBoost           0.9978"
   ]
  },
  {
   "cell_type": "code",
   "execution_count": null,
   "id": "7b9b695c",
   "metadata": {},
   "outputs": [],
   "source": []
  }
 ],
 "metadata": {
  "kernelspec": {
   "display_name": "Python 3 (ipykernel)",
   "language": "python",
   "name": "python3"
  },
  "language_info": {
   "codemirror_mode": {
    "name": "ipython",
    "version": 3
   },
   "file_extension": ".py",
   "mimetype": "text/x-python",
   "name": "python",
   "nbconvert_exporter": "python",
   "pygments_lexer": "ipython3",
   "version": "3.9.7"
  }
 },
 "nbformat": 4,
 "nbformat_minor": 5
}
